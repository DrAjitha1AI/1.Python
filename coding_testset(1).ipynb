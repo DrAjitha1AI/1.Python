{
 "cells": [
  {
   "cell_type": "code",
   "execution_count": null,
   "id": "b4e40bab-b705-44bf-bff7-10be9f382282",
   "metadata": {},
   "outputs": [],
   "source": [
    "1.Write a Python program that prints numbers from 1 to 5.\n",
    "Expected Output:\n",
    "1 2 3 4 5"
   ]
  },
  {
   "cell_type": "code",
   "execution_count": 1,
   "id": "f7ac582b-e1e4-4275-be42-c873e8518b08",
   "metadata": {},
   "outputs": [
    {
     "name": "stdout",
     "output_type": "stream",
     "text": [
      "1 2 3 4 5 "
     ]
    }
   ],
   "source": [
    "#Answer:\n",
    "for num in range(1,6):\n",
    "    print(num, end=\" \")"
   ]
  },
  {
   "cell_type": "code",
   "execution_count": null,
   "id": "a74af27c-1762-4576-9d3b-ead36952c131",
   "metadata": {},
   "outputs": [],
   "source": [
    "2.Write a Python program to print the first 5 even numbers. Expected Output:\n",
    "2 4 6 8 10\n",
    "\n"
   ]
  },
  {
   "cell_type": "code",
   "execution_count": 2,
   "id": "a1121e52-1e4f-4116-9402-d160c7d9d432",
   "metadata": {},
   "outputs": [
    {
     "name": "stdout",
     "output_type": "stream",
     "text": [
      "2 4 6 8 10 "
     ]
    }
   ],
   "source": [
    "#Answer:\n",
    "for even in range(2,12,2):\n",
    "    print(even, end=\" \")"
   ]
  },
  {
   "cell_type": "code",
   "execution_count": null,
   "id": "63e8f193-466e-4b3e-be62-a17bbf0c5af4",
   "metadata": {},
   "outputs": [],
   "source": [
    "3.Write a Python program to print the sum of numbers from 1 to 10. \n",
    "Expected Output:55\n"
   ]
  },
  {
   "cell_type": "code",
   "execution_count": 3,
   "id": "cc49db5e-149a-4939-b908-5126c44f3b4b",
   "metadata": {},
   "outputs": [
    {
     "name": "stdout",
     "output_type": "stream",
     "text": [
      "55\n"
     ]
    }
   ],
   "source": [
    "print(sum(range(1,11)))"
   ]
  },
  {
   "cell_type": "code",
   "execution_count": null,
   "id": "43b7eaf3-3fb7-4dcb-99e4-5f652d33c39d",
   "metadata": {},
   "outputs": [],
   "source": [
    "4.Write a Python function to find the factorial of 5. Expected Output:\n",
    "120\n"
   ]
  },
  {
   "cell_type": "code",
   "execution_count": 4,
   "id": "2cfc77d0-45c6-4258-adcd-d5656acbc8d6",
   "metadata": {},
   "outputs": [
    {
     "name": "stdout",
     "output_type": "stream",
     "text": [
      "120\n"
     ]
    }
   ],
   "source": [
    "#Answer:\n",
    "\n",
    "def factorial():\n",
    "    return 5*4*3*2*1\n",
    "result=factorial()\n",
    "print(result)   "
   ]
  },
  {
   "cell_type": "code",
   "execution_count": null,
   "id": "6d43fc39-2bf9-4b54-87bd-3716442d7cb3",
   "metadata": {},
   "outputs": [],
   "source": [
    "5.Write a Python program to check if a number is prime. Expected Output (for input 7):\n",
    "7 is a prime number\n"
   ]
  },
  {
   "cell_type": "code",
   "execution_count": 5,
   "id": "1fff25cc-f12e-4714-86ca-c5e6d8ea16a2",
   "metadata": {},
   "outputs": [
    {
     "name": "stdout",
     "output_type": "stream",
     "text": [
      "7  is a prime number\n"
     ]
    }
   ],
   "source": [
    "#Answer:\n",
    "\n",
    "num=7\n",
    "if (num%7==0):\n",
    "    print(num, \" is a prime number\")\n",
    "    "
   ]
  },
  {
   "cell_type": "code",
   "execution_count": null,
   "id": "336b4d7e-842e-4b4a-8a68-958c702e9136",
   "metadata": {},
   "outputs": [],
   "source": []
  }
 ],
 "metadata": {
  "kernelspec": {
   "display_name": "Python 3 (ipykernel)",
   "language": "python",
   "name": "python3"
  },
  "language_info": {
   "codemirror_mode": {
    "name": "ipython",
    "version": 3
   },
   "file_extension": ".py",
   "mimetype": "text/x-python",
   "name": "python",
   "nbconvert_exporter": "python",
   "pygments_lexer": "ipython3",
   "version": "3.11.5"
  }
 },
 "nbformat": 4,
 "nbformat_minor": 5
}
