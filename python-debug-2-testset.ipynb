{
 "cells": [
  {
   "cell_type": "code",
   "execution_count": null,
   "id": "703011e0-371c-47d4-a62a-2aeb4a3a9049",
   "metadata": {},
   "outputs": [],
   "source": [
    "#1.Find the error in the following Python code:\n",
    "import math\n",
    "print(Math.sqrt(16))\n"
   ]
  },
  {
   "cell_type": "code",
   "execution_count": 1,
   "id": "0f5a3d98-f859-4722-aada-66f723d9e409",
   "metadata": {},
   "outputs": [
    {
     "name": "stdout",
     "output_type": "stream",
     "text": [
      "4.0\n"
     ]
    }
   ],
   "source": [
    "#Answer\n",
    "import math\n",
    "print(math.sqrt(16))"
   ]
  },
  {
   "cell_type": "code",
   "execution_count": null,
   "id": "d5c567e5-dbe1-4076-a762-43bad2cf8742",
   "metadata": {},
   "outputs": [],
   "source": [
    "#2.Find the error in the following Python code:\n",
    "def my_function():\n",
    "    x += 5\n",
    "    print(x)\n",
    "\n",
    "x = 10\n",
    "my_function()\n"
   ]
  },
  {
   "cell_type": "code",
   "execution_count": 2,
   "id": "fdfad750-5f16-4c51-afa2-ad25ab06e412",
   "metadata": {},
   "outputs": [
    {
     "name": "stdout",
     "output_type": "stream",
     "text": [
      "15\n"
     ]
    }
   ],
   "source": [
    "#Answer:\n",
    "def my_function():\n",
    "    global x\n",
    "    x += 5\n",
    "    print(x)\n",
    "\n",
    "    \n",
    "x = 10\n",
    "my_function()"
   ]
  },
  {
   "cell_type": "code",
   "execution_count": null,
   "id": "a136dbf1-31a0-459f-83d5-941e19659a69",
   "metadata": {},
   "outputs": [],
   "source": [
    "#3.x = 5\n",
    "if x = 10:\n",
    "    print(\"x is 10\")\n"
   ]
  },
  {
   "cell_type": "code",
   "execution_count": 3,
   "id": "3eafb882-dbc9-4df5-907a-8a0fe656e6f1",
   "metadata": {},
   "outputs": [],
   "source": [
    "#Answer:\n",
    "x = 5\n",
    "if x ==10:\n",
    "    print(\"x is 10\")"
   ]
  },
  {
   "cell_type": "code",
   "execution_count": null,
   "id": "a9eff39f-c7ce-47f9-b2f4-3b33cd6ca20a",
   "metadata": {},
   "outputs": [],
   "source": [
    "#4.\n",
    "numbers = [5, 3, 8, 2]\n",
    "print(numbers.sort())\n"
   ]
  },
  {
   "cell_type": "code",
   "execution_count": 4,
   "id": "a3a0f402-1e78-4b65-a98f-d5408410053e",
   "metadata": {},
   "outputs": [
    {
     "name": "stdout",
     "output_type": "stream",
     "text": [
      "[2, 3, 5, 8]\n"
     ]
    }
   ],
   "source": [
    "#Answer\n",
    "numbers = [5, 3, 8, 2]\n",
    "numbers.sort()\n",
    "print(numbers)"
   ]
  },
  {
   "cell_type": "code",
   "execution_count": 5,
   "id": "0f539faa-e0b0-4e0a-8ff4-de845bda9882",
   "metadata": {},
   "outputs": [
    {
     "name": "stdout",
     "output_type": "stream",
     "text": [
      "[8, 5, 3, 2]\n"
     ]
    }
   ],
   "source": [
    "numbers = [5, 3, 8, 2]\n",
    "numbers.sort(reverse=True)\n",
    "print(numbers)"
   ]
  },
  {
   "cell_type": "code",
   "execution_count": null,
   "id": "0cf6f31d-ac88-46ca-8ed7-4101c07a69fd",
   "metadata": {},
   "outputs": [],
   "source": [
    "#5.\n",
    "def square(n):\n",
    "    n * n\n",
    "\n",
    "print(square(4))"
   ]
  },
  {
   "cell_type": "code",
   "execution_count": 6,
   "id": "1947414b-1dc5-4486-939d-9bfca2fe07b5",
   "metadata": {},
   "outputs": [],
   "source": [
    "#Answer:\n",
    "\n",
    "def square(n):\n",
    "    return n*n\n",
    "    print(square(4))"
   ]
  },
  {
   "cell_type": "code",
   "execution_count": null,
   "id": "e722d539-7fd9-4457-8e00-8a76e359dd11",
   "metadata": {},
   "outputs": [],
   "source": [
    "#6.\n",
    "my_tuple = (1, 2, 3)\n",
    "my_tuple[1] = 5\n"
   ]
  },
  {
   "cell_type": "code",
   "execution_count": 7,
   "id": "97a25c76-cc0b-4e06-8dd9-1e87494d58b4",
   "metadata": {},
   "outputs": [],
   "source": [
    "#Answer:\n",
    "my_tuple = (1, 5, 3)"
   ]
  },
  {
   "cell_type": "code",
   "execution_count": null,
   "id": "329e88fc-d286-4520-8e86-33ecde3af148",
   "metadata": {},
   "outputs": [],
   "source": [
    "#7.\n",
    "name = \"Alice\"\n",
    "age = 25\n",
    "print(\"My name is %s and I am %d years old\" % (name))\n"
   ]
  },
  {
   "cell_type": "code",
   "execution_count": 8,
   "id": "a31ebe56-7800-4843-916b-773a52acfecf",
   "metadata": {},
   "outputs": [
    {
     "name": "stdout",
     "output_type": "stream",
     "text": [
      "My name is Alice and I am 25 years old\n"
     ]
    }
   ],
   "source": [
    "#Answer:\n",
    "name = \"Alice\"\n",
    "age = 25\n",
    "print(\"My name is %s and I am %d years old\" % (name,age))"
   ]
  },
  {
   "cell_type": "code",
   "execution_count": null,
   "id": "2e97136b-979f-4b25-9f5b-899e2fb43d27",
   "metadata": {},
   "outputs": [],
   "source": [
    "#8.\n",
    "a = [1, 2, 3]\n",
    "b = [1, 2, 3]\n",
    "if a is b:\n",
    "    print(\"Lists are equal\")\n"
   ]
  },
  {
   "cell_type": "code",
   "execution_count": 9,
   "id": "9e444814-1fff-4c63-93e3-31c3e1273c95",
   "metadata": {},
   "outputs": [
    {
     "name": "stdout",
     "output_type": "stream",
     "text": [
      "Lists are equal\n"
     ]
    }
   ],
   "source": [
    "#Answer:\n",
    "a = [1, 2, 3]\n",
    "b = [1, 2, 3]\n",
    "if a==b:\n",
    "    print(\"Lists are equal\")"
   ]
  },
  {
   "cell_type": "code",
   "execution_count": null,
   "id": "8ff05550-a0b5-42aa-aaa3-bdfee99013b7",
   "metadata": {},
   "outputs": [],
   "source": [
    "#9.\n",
    "for i in range(5, 1):\n",
    "    print(i)"
   ]
  },
  {
   "cell_type": "code",
   "execution_count": 10,
   "id": "a025d036-d675-4cb3-b1f7-4a2bab3b6233",
   "metadata": {},
   "outputs": [
    {
     "name": "stdout",
     "output_type": "stream",
     "text": [
      "1\n",
      "2\n",
      "3\n",
      "4\n"
     ]
    }
   ],
   "source": [
    "#Answer:\n",
    "\n",
    "for i in range(1,5):\n",
    "    print(i)"
   ]
  },
  {
   "cell_type": "code",
   "execution_count": null,
   "id": "cb8ea385-3236-4680-b9ec-5b3952f0e079",
   "metadata": {},
   "outputs": [],
   "source": [
    "#10.\n",
    "student = {\"name\": \"John\", \"age\": 20}\n",
    "print(student[name])\n"
   ]
  },
  {
   "cell_type": "code",
   "execution_count": 11,
   "id": "c05e2775-80a0-493b-9c1c-5f85861a122b",
   "metadata": {},
   "outputs": [
    {
     "name": "stdout",
     "output_type": "stream",
     "text": [
      "John\n"
     ]
    }
   ],
   "source": [
    "#Answer:\n",
    "student = {\"name\": \"John\", \"age\": 20}\n",
    "print(student[\"name\"])"
   ]
  },
  {
   "cell_type": "code",
   "execution_count": 12,
   "id": "9bb83b14-e985-45b1-8561-546c6c94a6bd",
   "metadata": {},
   "outputs": [
    {
     "name": "stdout",
     "output_type": "stream",
     "text": [
      "doctor a is Ajitha\n"
     ]
    }
   ],
   "source": [
    "reverse = \"Ajitha is a doctor\"\n",
    "reversed_words = ' '.join(reverse.split()[::-1])\n",
    "print(reversed_words)"
   ]
  },
  {
   "cell_type": "code",
   "execution_count": 13,
   "id": "c03b221d-fef2-4828-976b-75e989c0a7f6",
   "metadata": {},
   "outputs": [
    {
     "name": "stdin",
     "output_type": "stream",
     "text": [
      "Enter the order= 1000\n"
     ]
    }
   ],
   "source": [
    "order=int(input(\"Enter the order=\"))\n",
    "def calculate_final_amount(order):\n",
    "    if (order>=100):\n",
    "        print(\"Final amount\")\n",
    "    percent=0.20\n",
    "    discounted_price=order*percent\n",
    "    final_amount=order-discounted_price\n",
    "    return final_amount"
   ]
  },
  {
   "cell_type": "code",
   "execution_count": 14,
   "id": "ddeb3ca3-2a58-49ff-82c1-eda145c280b1",
   "metadata": {},
   "outputs": [
    {
     "name": "stdout",
     "output_type": "stream",
     "text": [
      "Final amount\n"
     ]
    },
    {
     "data": {
      "text/plain": [
       "800.0"
      ]
     },
     "execution_count": 14,
     "metadata": {},
     "output_type": "execute_result"
    }
   ],
   "source": [
    "calculate_final_amount(order)"
   ]
  },
  {
   "cell_type": "code",
   "execution_count": 15,
   "id": "7b0832c4-d416-48a8-8c5a-a687cda760fa",
   "metadata": {},
   "outputs": [
    {
     "name": "stdin",
     "output_type": "stream",
     "text": [
      "enter the withdrawl = 200\n",
      "enter the balance = 300\n"
     ]
    },
    {
     "name": "stdout",
     "output_type": "stream",
     "text": [
      "Proceed to withdrawl\n",
      "remaining balance\n"
     ]
    },
    {
     "data": {
      "text/plain": [
       "100"
      ]
     },
     "execution_count": 15,
     "metadata": {},
     "output_type": "execute_result"
    }
   ],
   "source": [
    "withdrawl = int(input(\"enter the withdrawl =\"))\n",
    "balance = int(input(\"enter the balance =\"))\n",
    "def request():\n",
    "    if(withdrawl<=balance):\n",
    "        print(\"Proceed to withdrawl\")\n",
    "        remaining = balance - withdrawl\n",
    "        print(\"remaining balance\")\n",
    "        return remaining\n",
    "    else:\n",
    "        print(\"Insufficient balance\")\n",
    "        remaining = balance - withdrawl\n",
    "        return remaining\n",
    "request()"
   ]
  },
  {
   "cell_type": "code",
   "execution_count": 16,
   "id": "6bf4cff3-63d1-4c1f-afe6-9aec6672d952",
   "metadata": {},
   "outputs": [
    {
     "name": "stdin",
     "output_type": "stream",
     "text": [
      "Enter the year= 2022\n"
     ]
    },
    {
     "name": "stdout",
     "output_type": "stream",
     "text": [
      "Not a Leap year\n"
     ]
    }
   ],
   "source": [
    "def leap_year():\n",
    "    year =int(input(\"Enter the year=\"))\n",
    "    if(year%4==0):\n",
    "        print(\"Leap year\")\n",
    "    else:\n",
    "        print(\"Not a Leap year\")\n",
    "leap_year()"
   ]
  },
  {
   "cell_type": "code",
   "execution_count": 17,
   "id": "acf64871-0e12-4783-87d5-0a63eacf957f",
   "metadata": {},
   "outputs": [
    {
     "name": "stdout",
     "output_type": "stream",
     "text": [
      "[]\n"
     ]
    },
    {
     "ename": "TypeError",
     "evalue": "can only concatenate list (not \"int\") to list",
     "output_type": "error",
     "traceback": [
      "\u001b[31m---------------------------------------------------------------------------\u001b[39m",
      "\u001b[31mTypeError\u001b[39m                                 Traceback (most recent call last)",
      "\u001b[36mCell\u001b[39m\u001b[36m \u001b[39m\u001b[32mIn[17]\u001b[39m\u001b[32m, line 5\u001b[39m\n\u001b[32m      3\u001b[39m \u001b[38;5;28;01mfor\u001b[39;00m num \u001b[38;5;129;01min\u001b[39;00m \u001b[38;5;28mlist\u001b[39m:\n\u001b[32m      4\u001b[39m     \u001b[38;5;28;01mif\u001b[39;00m(num%\u001b[32m2\u001b[39m==\u001b[32m0\u001b[39m):\n\u001b[32m----> \u001b[39m\u001b[32m5\u001b[39m         new_list1 = Even_number1 + num\n\u001b[32m      6\u001b[39m     \u001b[38;5;28mprint\u001b[39m(Even_number1)\n",
      "\u001b[31mTypeError\u001b[39m: can only concatenate list (not \"int\") to list"
     ]
    }
   ],
   "source": [
    "list=[1,2,3,4,5,6,7,8,9,10,11,12]\n",
    "Even_number1 = []\n",
    "for num in list:\n",
    "    if(num%2==0):\n",
    "        new_list1 = Even_number1 + num\n",
    "    print(Even_number1)\n",
    "            "
   ]
  },
  {
   "cell_type": "code",
   "execution_count": 18,
   "id": "4933c237-4a98-493f-a5ea-87caf36ff9e4",
   "metadata": {},
   "outputs": [
    {
     "name": "stdout",
     "output_type": "stream",
     "text": [
      "The largest value is 278247\n"
     ]
    }
   ],
   "source": [
    "list2=(1,2,3,4,5,78,909,278247)\n",
    "Largest_number = max(list2)\n",
    "print(\"The largest value is\", Largest_number)"
   ]
  },
  {
   "cell_type": "code",
   "execution_count": 19,
   "id": "54895c4c-5a80-4360-a28a-6d0183bba7e1",
   "metadata": {},
   "outputs": [
    {
     "name": "stdout",
     "output_type": "stream",
     "text": [
      "John\n"
     ]
    }
   ],
   "source": [
    "student = {\"name\": \"John\", \"age\": 20}\n",
    "print(student[\"name\"])"
   ]
  },
  {
   "cell_type": "code",
   "execution_count": 20,
   "id": "9cfffacb-6430-48c0-9c3d-82fa6041bf07",
   "metadata": {},
   "outputs": [
    {
     "name": "stdout",
     "output_type": "stream",
     "text": [
      "rotcudnoc a si inaM\n",
      "conductor a is Mani\n"
     ]
    }
   ],
   "source": [
    "# Reverse a sentence \n",
    "text=\"Mani is a conductor\"\n",
    "#split the sentence\n",
    "words=text[::-1]\n",
    "#reverse the sentence\n",
    "reversed_words=words.split()\n",
    "#join the sentence\n",
    "result=\" \".join(reversed_words)\n",
    "print(result)\n",
    "result2=\" \".join(text.split()[::-1])\n",
    "print(result2)"
   ]
  },
  {
   "cell_type": "code",
   "execution_count": null,
   "id": "08113a16-7c44-493a-8f9c-27198a1e5ad3",
   "metadata": {},
   "outputs": [],
   "source": []
  },
  {
   "cell_type": "code",
   "execution_count": null,
   "id": "4f902cbe-c0b5-45c6-9a67-d9077e4115dc",
   "metadata": {},
   "outputs": [],
   "source": []
  }
 ],
 "metadata": {
  "kernelspec": {
   "display_name": "Python 3 (ipykernel)",
   "language": "python",
   "name": "python3"
  },
  "language_info": {
   "codemirror_mode": {
    "name": "ipython",
    "version": 3
   },
   "file_extension": ".py",
   "mimetype": "text/x-python",
   "name": "python",
   "nbconvert_exporter": "python",
   "pygments_lexer": "ipython3",
   "version": "3.11.5"
  }
 },
 "nbformat": 4,
 "nbformat_minor": 5
}
