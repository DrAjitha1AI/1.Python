{
 "cells": [
  {
   "cell_type": "code",
   "execution_count": null,
   "id": "5479880f-af0a-445d-9871-d070a2df7cf4",
   "metadata": {},
   "outputs": [],
   "source": [
    "1.Write a Python program to find the reverse of a string. Expected Output (for input \"hello\"):\n",
    "olleh\n"
   ]
  },
  {
   "cell_type": "code",
   "execution_count": 1,
   "id": "3fda624a-3388-4b91-8b8e-01d09e34d13a",
   "metadata": {},
   "outputs": [
    {
     "name": "stdout",
     "output_type": "stream",
     "text": [
      "olleh\n"
     ]
    }
   ],
   "source": [
    "#ANS:\n",
    "output=\"hello\"\n",
    "reverse=output[::-1]\n",
    "print(reverse)\n"
   ]
  },
  {
   "cell_type": "code",
   "execution_count": null,
   "id": "28dedd44-5d32-440e-be34-a42fb8b9769a",
   "metadata": {},
   "outputs": [],
   "source": [
    "2.Write a Python program to generate the Fibonacci sequence up to 10 terms.\n",
    "Expected Output:\n",
    "0 1 1 2 3 5 8 13 21 34"
   ]
  },
  {
   "cell_type": "code",
   "execution_count": 2,
   "id": "0cf74281-bea8-4d25-af76-676c1f9ef552",
   "metadata": {},
   "outputs": [],
   "source": [
    "\n",
    "def code(y):\n",
    "    sequence = [0, 1]\n",
    "    for i in range(2, n):\n",
    "        sequence.append(sequence[-1] + sequence[-2])\n",
    "    return sequence\n",
    "    "
   ]
  },
  {
   "cell_type": "code",
   "execution_count": 3,
   "id": "fe93bfda-58e7-4824-8ced-b606df8d3774",
   "metadata": {},
   "outputs": [
    {
     "ename": "NameError",
     "evalue": "name 'y' is not defined",
     "output_type": "error",
     "traceback": [
      "\u001b[31m---------------------------------------------------------------------------\u001b[39m",
      "\u001b[31mNameError\u001b[39m                                 Traceback (most recent call last)",
      "\u001b[36mCell\u001b[39m\u001b[36m \u001b[39m\u001b[32mIn[3]\u001b[39m\u001b[32m, line 1\u001b[39m\n\u001b[32m----> \u001b[39m\u001b[32m1\u001b[39m code(y)\n",
      "\u001b[31mNameError\u001b[39m: name 'y' is not defined"
     ]
    }
   ],
   "source": [
    "code(y)"
   ]
  },
  {
   "cell_type": "code",
   "execution_count": null,
   "id": "123064f0-213d-4d7c-831c-eaade5bb3fd9",
   "metadata": {},
   "outputs": [],
   "source": [
    "3.Write a Python function to check if a given string is a palindrome.\n",
    "Expected Output (for input \"madam\"):\n",
    "madam is a palindrome"
   ]
  },
  {
   "cell_type": "code",
   "execution_count": 4,
   "id": "1cdbd32e-83b4-433f-abe8-c68a10129938",
   "metadata": {},
   "outputs": [
    {
     "name": "stdout",
     "output_type": "stream",
     "text": [
      "madam is a palindrome\n"
     ]
    }
   ],
   "source": [
    "text=\"madam\"\n",
    "check=text[::-1]\n",
    "if(check==text):\n",
    "    print(check,\"is a palindrome\")"
   ]
  },
  {
   "cell_type": "code",
   "execution_count": null,
   "id": "92c36aff-288e-40ba-bde2-f8600dd95eac",
   "metadata": {},
   "outputs": [],
   "source": [
    "4.Write a Python program to count the number of vowels in a given string. \n",
    "Expected Output (for input \"education\"):\n",
    "\n",
    "Number of vowels: 5"
   ]
  },
  {
   "cell_type": "code",
   "execution_count": 5,
   "id": "29d1ef8f-af07-4670-a09f-d2531f177321",
   "metadata": {},
   "outputs": [
    {
     "name": "stdout",
     "output_type": "stream",
     "text": [
      "Number of vowels: 5\n"
     ]
    }
   ],
   "source": [
    "vowels=\"education\"\n",
    "def count_numbers(t):\n",
    "    vowels_1=\"aeiou\"\n",
    "    return sum(1 for vowels in t if vowels in vowels_1)\n",
    "print(\"Number of vowels:\", count_numbers(\"education\"))"
   ]
  },
  {
   "cell_type": "code",
   "execution_count": null,
   "id": "5c9ddf0d-c9f8-4599-89c5-7bc86c68e440",
   "metadata": {},
   "outputs": [],
   "source": [
    "5.Write a Python program to remove duplicates from a list.\n",
    "Expected Output (for input [1, 2, 2, 3, 4, 4, 5]):\n",
    "\n",
    " [1, 2, 3, 4, 5]"
   ]
  },
  {
   "cell_type": "code",
   "execution_count": 6,
   "id": "c2e7c89a-5983-48a6-b894-522515187102",
   "metadata": {},
   "outputs": [
    {
     "data": {
      "text/plain": [
       "{1, 2, 3, 4, 5}"
      ]
     },
     "execution_count": 6,
     "metadata": {},
     "output_type": "execute_result"
    }
   ],
   "source": [
    "#Answer: By using set(), we can remove duplicates from a list.\n",
    "one=[1, 2, 2, 3, 4, 4, 5]\n",
    "def duplicates_remove(one):\n",
    "    return set(one)\n",
    "duplicates_remove(one)\n"
   ]
  },
  {
   "cell_type": "code",
   "execution_count": null,
   "id": "a2b0d16b-61b9-4bdd-8ebe-b335ef189244",
   "metadata": {},
   "outputs": [],
   "source": []
  }
 ],
 "metadata": {
  "kernelspec": {
   "display_name": "Python 3 (ipykernel)",
   "language": "python",
   "name": "python3"
  },
  "language_info": {
   "codemirror_mode": {
    "name": "ipython",
    "version": 3
   },
   "file_extension": ".py",
   "mimetype": "text/x-python",
   "name": "python",
   "nbconvert_exporter": "python",
   "pygments_lexer": "ipython3",
   "version": "3.11.5"
  }
 },
 "nbformat": 4,
 "nbformat_minor": 5
}
